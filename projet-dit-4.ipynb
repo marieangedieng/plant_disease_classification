{
 "cells": [
  {
   "cell_type": "code",
   "execution_count": 1,
   "metadata": {},
   "outputs": [
    {
     "name": "stdout",
     "output_type": "stream",
     "text": [
      "Requirement already satisfied: opencv-python in /usr/local/lib/python3.11/dist-packages (4.12.0.88)\n",
      "Requirement already satisfied: tensorflow in /usr/local/lib/python3.11/dist-packages (2.20.0)\n",
      "Requirement already satisfied: scikit-learn in /usr/local/lib/python3.11/dist-packages (1.7.1)\n",
      "Requirement already satisfied: pandas in /usr/local/lib/python3.11/dist-packages (2.3.1)\n",
      "Requirement already satisfied: matplotlib in /usr/local/lib/python3.11/dist-packages (3.10.5)\n",
      "Requirement already satisfied: tensorflow_datasets in /usr/local/lib/python3.11/dist-packages (4.9.9)\n",
      "Requirement already satisfied: requests in /usr/local/lib/python3.11/dist-packages (2.32.3)\n",
      "Collecting requests\n",
      "  Downloading requests-2.32.4-py3-none-any.whl.metadata (4.9 kB)\n",
      "Requirement already satisfied: numpy<2.3.0,>=2 in /usr/local/lib/python3.11/dist-packages (from opencv-python) (2.1.2)\n",
      "Requirement already satisfied: absl-py>=1.0.0 in /usr/local/lib/python3.11/dist-packages (from tensorflow) (2.3.1)\n",
      "Requirement already satisfied: astunparse>=1.6.0 in /usr/local/lib/python3.11/dist-packages (from tensorflow) (1.6.3)\n",
      "Requirement already satisfied: flatbuffers>=24.3.25 in /usr/local/lib/python3.11/dist-packages (from tensorflow) (25.2.10)\n",
      "Requirement already satisfied: gast!=0.5.0,!=0.5.1,!=0.5.2,>=0.2.1 in /usr/local/lib/python3.11/dist-packages (from tensorflow) (0.6.0)\n",
      "Requirement already satisfied: google_pasta>=0.1.1 in /usr/local/lib/python3.11/dist-packages (from tensorflow) (0.2.0)\n",
      "Requirement already satisfied: libclang>=13.0.0 in /usr/local/lib/python3.11/dist-packages (from tensorflow) (18.1.1)\n",
      "Requirement already satisfied: opt_einsum>=2.3.2 in /usr/local/lib/python3.11/dist-packages (from tensorflow) (3.4.0)\n",
      "Requirement already satisfied: packaging in /usr/local/lib/python3.11/dist-packages (from tensorflow) (24.2)\n",
      "Requirement already satisfied: protobuf>=5.28.0 in /usr/local/lib/python3.11/dist-packages (from tensorflow) (6.31.1)\n",
      "Requirement already satisfied: setuptools in /usr/local/lib/python3.11/dist-packages (from tensorflow) (77.0.1)\n",
      "Requirement already satisfied: six>=1.12.0 in /usr/lib/python3/dist-packages (from tensorflow) (1.16.0)\n",
      "Requirement already satisfied: termcolor>=1.1.0 in /usr/local/lib/python3.11/dist-packages (from tensorflow) (3.1.0)\n",
      "Requirement already satisfied: typing_extensions>=3.6.6 in /usr/local/lib/python3.11/dist-packages (from tensorflow) (4.12.2)\n",
      "Requirement already satisfied: wrapt>=1.11.0 in /usr/local/lib/python3.11/dist-packages (from tensorflow) (1.17.3)\n",
      "Requirement already satisfied: grpcio<2.0,>=1.24.3 in /usr/local/lib/python3.11/dist-packages (from tensorflow) (1.74.0)\n",
      "Requirement already satisfied: tensorboard~=2.20.0 in /usr/local/lib/python3.11/dist-packages (from tensorflow) (2.20.0)\n",
      "Requirement already satisfied: keras>=3.10.0 in /usr/local/lib/python3.11/dist-packages (from tensorflow) (3.11.2)\n",
      "Requirement already satisfied: h5py>=3.11.0 in /usr/local/lib/python3.11/dist-packages (from tensorflow) (3.14.0)\n",
      "Requirement already satisfied: ml_dtypes<1.0.0,>=0.5.1 in /usr/local/lib/python3.11/dist-packages (from tensorflow) (0.5.3)\n",
      "Requirement already satisfied: scipy>=1.8.0 in /usr/local/lib/python3.11/dist-packages (from scikit-learn) (1.16.1)\n",
      "Requirement already satisfied: joblib>=1.2.0 in /usr/local/lib/python3.11/dist-packages (from scikit-learn) (1.5.1)\n",
      "Requirement already satisfied: threadpoolctl>=3.1.0 in /usr/local/lib/python3.11/dist-packages (from scikit-learn) (3.6.0)\n",
      "Requirement already satisfied: python-dateutil>=2.8.2 in /usr/local/lib/python3.11/dist-packages (from pandas) (2.9.0.post0)\n",
      "Requirement already satisfied: pytz>=2020.1 in /usr/local/lib/python3.11/dist-packages (from pandas) (2025.2)\n",
      "Requirement already satisfied: tzdata>=2022.7 in /usr/local/lib/python3.11/dist-packages (from pandas) (2025.2)\n",
      "Requirement already satisfied: contourpy>=1.0.1 in /usr/local/lib/python3.11/dist-packages (from matplotlib) (1.3.3)\n",
      "Requirement already satisfied: cycler>=0.10 in /usr/local/lib/python3.11/dist-packages (from matplotlib) (0.12.1)\n",
      "Requirement already satisfied: fonttools>=4.22.0 in /usr/local/lib/python3.11/dist-packages (from matplotlib) (4.59.0)\n",
      "Requirement already satisfied: kiwisolver>=1.3.1 in /usr/local/lib/python3.11/dist-packages (from matplotlib) (1.4.9)\n",
      "Requirement already satisfied: pillow>=8 in /usr/local/lib/python3.11/dist-packages (from matplotlib) (11.0.0)\n",
      "Requirement already satisfied: pyparsing>=2.3.1 in /usr/lib/python3/dist-packages (from matplotlib) (2.4.7)\n",
      "Requirement already satisfied: array_record>=0.5.0 in /usr/local/lib/python3.11/dist-packages (from tensorflow_datasets) (0.7.2)\n",
      "Requirement already satisfied: dm-tree in /usr/local/lib/python3.11/dist-packages (from tensorflow_datasets) (0.1.9)\n",
      "Requirement already satisfied: etils>=1.9.1 in /usr/local/lib/python3.11/dist-packages (from etils[edc,enp,epath,epy,etree]>=1.9.1; python_version >= \"3.11\"->tensorflow_datasets) (1.13.0)\n",
      "Requirement already satisfied: immutabledict in /usr/local/lib/python3.11/dist-packages (from tensorflow_datasets) (4.2.1)\n",
      "Requirement already satisfied: promise in /usr/local/lib/python3.11/dist-packages (from tensorflow_datasets) (2.3)\n",
      "Requirement already satisfied: psutil in /usr/local/lib/python3.11/dist-packages (from tensorflow_datasets) (7.0.0)\n",
      "Requirement already satisfied: pyarrow in /usr/local/lib/python3.11/dist-packages (from tensorflow_datasets) (21.0.0)\n",
      "Requirement already satisfied: simple_parsing in /usr/local/lib/python3.11/dist-packages (from tensorflow_datasets) (0.1.7)\n",
      "Requirement already satisfied: tensorflow-metadata in /usr/local/lib/python3.11/dist-packages (from tensorflow_datasets) (1.17.2)\n",
      "Requirement already satisfied: toml in /usr/local/lib/python3.11/dist-packages (from tensorflow_datasets) (0.10.2)\n",
      "Requirement already satisfied: tqdm in /usr/local/lib/python3.11/dist-packages (from tensorflow_datasets) (4.67.1)\n",
      "Requirement already satisfied: charset_normalizer<4,>=2 in /usr/local/lib/python3.11/dist-packages (from requests) (3.4.1)\n",
      "Requirement already satisfied: idna<4,>=2.5 in /usr/local/lib/python3.11/dist-packages (from requests) (3.10)\n",
      "Requirement already satisfied: urllib3<3,>=1.21.1 in /usr/local/lib/python3.11/dist-packages (from requests) (2.3.0)\n",
      "Requirement already satisfied: certifi>=2017.4.17 in /usr/local/lib/python3.11/dist-packages (from requests) (2025.1.31)\n",
      "Requirement already satisfied: wheel<1.0,>=0.23.0 in /usr/local/lib/python3.11/dist-packages (from astunparse>=1.6.0->tensorflow) (0.45.1)\n",
      "Requirement already satisfied: einops in /usr/local/lib/python3.11/dist-packages (from etils[edc,enp,epath,epy,etree]>=1.9.1; python_version >= \"3.11\"->tensorflow_datasets) (0.8.1)\n",
      "Requirement already satisfied: fsspec in /usr/local/lib/python3.11/dist-packages (from etils[edc,enp,epath,epy,etree]>=1.9.1; python_version >= \"3.11\"->tensorflow_datasets) (2024.10.0)\n",
      "Requirement already satisfied: importlib_resources in /usr/local/lib/python3.11/dist-packages (from etils[edc,enp,epath,epy,etree]>=1.9.1; python_version >= \"3.11\"->tensorflow_datasets) (6.5.2)\n",
      "Requirement already satisfied: zipp in /usr/lib/python3/dist-packages (from etils[edc,enp,epath,epy,etree]>=1.9.1; python_version >= \"3.11\"->tensorflow_datasets) (1.0.0)\n",
      "Requirement already satisfied: rich in /usr/local/lib/python3.11/dist-packages (from keras>=3.10.0->tensorflow) (14.1.0)\n",
      "Requirement already satisfied: namex in /usr/local/lib/python3.11/dist-packages (from keras>=3.10.0->tensorflow) (0.1.0)\n",
      "Requirement already satisfied: optree in /usr/local/lib/python3.11/dist-packages (from keras>=3.10.0->tensorflow) (0.17.0)\n",
      "Requirement already satisfied: markdown>=2.6.8 in /usr/local/lib/python3.11/dist-packages (from tensorboard~=2.20.0->tensorflow) (3.8.2)\n",
      "Requirement already satisfied: tensorboard-data-server<0.8.0,>=0.7.0 in /usr/local/lib/python3.11/dist-packages (from tensorboard~=2.20.0->tensorflow) (0.7.2)\n",
      "Requirement already satisfied: werkzeug>=1.0.1 in /usr/local/lib/python3.11/dist-packages (from tensorboard~=2.20.0->tensorflow) (3.1.3)\n",
      "Requirement already satisfied: attrs>=18.2.0 in /usr/local/lib/python3.11/dist-packages (from dm-tree->tensorflow_datasets) (25.3.0)\n",
      "Requirement already satisfied: docstring-parser<1.0,>=0.15 in /usr/local/lib/python3.11/dist-packages (from simple_parsing->tensorflow_datasets) (0.17.0)\n",
      "Requirement already satisfied: googleapis-common-protos<2,>=1.56.4 in /usr/local/lib/python3.11/dist-packages (from tensorflow-metadata->tensorflow_datasets) (1.70.0)\n",
      "Requirement already satisfied: MarkupSafe>=2.1.1 in /usr/local/lib/python3.11/dist-packages (from werkzeug>=1.0.1->tensorboard~=2.20.0->tensorflow) (2.1.5)\n",
      "Requirement already satisfied: markdown-it-py>=2.2.0 in /usr/local/lib/python3.11/dist-packages (from rich->keras>=3.10.0->tensorflow) (4.0.0)\n",
      "Requirement already satisfied: pygments<3.0.0,>=2.13.0 in /usr/local/lib/python3.11/dist-packages (from rich->keras>=3.10.0->tensorflow) (2.19.1)\n",
      "Requirement already satisfied: mdurl~=0.1 in /usr/local/lib/python3.11/dist-packages (from markdown-it-py>=2.2.0->rich->keras>=3.10.0->tensorflow) (0.1.2)\n",
      "Downloading requests-2.32.4-py3-none-any.whl (64 kB)\n",
      "Installing collected packages: requests\n",
      "  Attempting uninstall: requests\n",
      "    Found existing installation: requests 2.32.3\n",
      "    Uninstalling requests-2.32.3:\n",
      "      Successfully uninstalled requests-2.32.3\n",
      "Successfully installed requests-2.32.4\n",
      "\u001b[33mWARNING: Running pip as the 'root' user can result in broken permissions and conflicting behaviour with the system package manager, possibly rendering your system unusable. It is recommended to use a virtual environment instead: https://pip.pypa.io/warnings/venv. Use the --root-user-action option if you know what you are doing and want to suppress this warning.\u001b[0m\u001b[33m\n",
      "\u001b[0m\n",
      "\u001b[1m[\u001b[0m\u001b[34;49mnotice\u001b[0m\u001b[1;39;49m]\u001b[0m\u001b[39;49m A new release of pip is available: \u001b[0m\u001b[31;49m25.0.1\u001b[0m\u001b[39;49m -> \u001b[0m\u001b[32;49m25.2\u001b[0m\n",
      "\u001b[1m[\u001b[0m\u001b[34;49mnotice\u001b[0m\u001b[1;39;49m]\u001b[0m\u001b[39;49m To update, run: \u001b[0m\u001b[32;49mpython -m pip install --upgrade pip\u001b[0m\n"
     ]
    }
   ],
   "source": [
    "!pip install -U opencv-python tensorflow scikit-learn pandas matplotlib tensorflow_datasets requests"
   ]
  },
  {
   "cell_type": "markdown",
   "metadata": {},
   "source": [
    "# IMPORTATION DES LIBRAIRIES"
   ]
  },
  {
   "cell_type": "code",
   "execution_count": 13,
   "metadata": {
    "_cell_guid": "b1076dfc-b9ad-4769-8c92-a6c4dae69d19",
    "_uuid": "8f2839f25d086af736a60e9eeb907d3b93b6e0e5"
   },
   "outputs": [],
   "source": [
    "import pandas as pd\n",
    "import numpy as np\n",
    "from PIL import Image\n",
    "import requests\n",
    "import zipfile\n",
    "import os\n",
    "import time\n",
    "import psutil\n",
    "import torch\n",
    "import torch.nn as nn\n",
    "import torch.optim as optim\n",
    "from torch.utils.data import Dataset, DataLoader\n",
    "from torchvision import transforms, models\n",
    "from sklearn.model_selection import train_test_split\n",
    "from sklearn.metrics import classification_report\n",
    "from tensorflow.keras.preprocessing.image import ImageDataGenerator\n"
   ]
  },
  {
   "cell_type": "code",
   "execution_count": 14,
   "metadata": {},
   "outputs": [
    {
     "name": "stdout",
     "output_type": "stream",
     "text": [
      "Using device: cuda\n",
      "GPU Name: NVIDIA RTX 6000 Ada Generation\n"
     ]
    }
   ],
   "source": [
    "device = torch.device('cuda' if torch.cuda.is_available() else 'cpu')\n",
    "print(f'Using device: {device}')\n",
    "if device.type == 'cuda':\n",
    "    print(f'GPU Name: {torch.cuda.get_device_name(0)}')"
   ]
  },
  {
   "cell_type": "markdown",
   "metadata": {},
   "source": [
    "# Chargement du dataset"
   ]
  },
  {
   "cell_type": "code",
   "execution_count": 15,
   "metadata": {},
   "outputs": [],
   "source": [
    "def telecharger_dezip(url, chemin_sauv=\"plant_village_dataset.zip\", extract_path=\".\"):\n",
    "    print(\" Début du téléchargement\")\n",
    "    try:\n",
    "        response=requests.get(url, stream=True)\n",
    "        response.raise_for_status()\n",
    "\n",
    "        #Taille totale du fichier pour la barre de progression\n",
    "        total_size=int(response.headers.get('content-length',0))\n",
    "        block_size=1064\n",
    "        bar_progression = tqdm(total=total_size, unit='iB', unit_scale=True)\n",
    "\n",
    "        #Téléchargement\n",
    "        with open(chemin_sauv, 'wb') as file:\n",
    "            for data in response.iter_content(block_size):\n",
    "                bar_progression.update(len(data))\n",
    "                file.write(data)\n",
    "        bar_progression.close()\n",
    "\n",
    "        if total_size != 0 and bar_progression.n != total_size:\n",
    "            print(\"ERREUR, quelque chose s'est mal passé pendant le téléchargement.\")\n",
    "            return\n",
    "\n",
    "        print(f\"Téléchargement terminé. Fichier sauvegardé sous : {chemin_sauv}\")\n",
    "\n",
    "        # Créer le dossier d'extraction s'il n'existe pas\n",
    "        if not os.path.exists(extract_path):\n",
    "            os.makedirs(extract_path)\n",
    "\n",
    "        # Décompresser le fichier ZIP\n",
    "        print(f\"Décompression du fichier dans le dossier : {extract_path}\")\n",
    "        with zipfile.ZipFile(chemin_sauv, 'r') as zip_ref:\n",
    "            zip_ref.extractall(extract_path)\n",
    "\n",
    "        print(\"Décompression terminée.\")\n",
    "\n",
    "        # Optionnel : Supprimer le fichier .zip après extraction pour économiser de l'espace\n",
    "        print(f\"Suppression du fichier {chemin_sauv}...\")\n",
    "        os.remove(chemin_sauv)\n",
    "        print(\"Opération terminée avec succès !\")\n",
    "\n",
    "    except requests.exceptions.RequestException as e:\n",
    "        print(f\"Une erreur de réseau est survenue: {e}\")\n",
    "    except zipfile.BadZipFile:\n",
    "        print(\"Erreur: Le fichier téléchargé n'est pas un fichier ZIP valide.\")\n",
    "    except Exception as e:\n",
    "        print(f\"Une erreur inattendue est survenue: {e}\")"
   ]
  },
  {
   "cell_type": "code",
   "execution_count": 16,
   "metadata": {},
   "outputs": [],
   "source": [
    "URL = \"https://data.mendeley.com/datasets/tywbtsjrjv/1/files/b4e3a32f-c0bd-4060-81e9-6144231f2520/file_downloaded\""
   ]
  },
  {
   "cell_type": "code",
   "execution_count": 17,
   "metadata": {},
   "outputs": [],
   "source": [
    "extract_folder = \"plant_village_dataset\""
   ]
  },
  {
   "cell_type": "code",
   "execution_count": 18,
   "metadata": {},
   "outputs": [
    {
     "name": "stdout",
     "output_type": "stream",
     "text": [
      " Début du téléchargement\n",
      "Une erreur inattendue est survenue: name 'tqdm' is not defined\n"
     ]
    }
   ],
   "source": [
    "telecharger_dezip(URL, \"PlantVillage.zip\", extract_folder)"
   ]
  },
  {
   "cell_type": "code",
   "execution_count": 19,
   "metadata": {},
   "outputs": [],
   "source": [
    "path=\"/workspace/plant_village_dataset/Plant_leave_diseases_dataset_with_augmentation\""
   ]
  },
  {
   "cell_type": "code",
   "execution_count": 20,
   "metadata": {},
   "outputs": [],
   "source": [
    "IMG_SIZE = (224, 224)\n",
    "BATCH_SIZE = 32"
   ]
  },
  {
   "cell_type": "code",
   "execution_count": 21,
   "metadata": {},
   "outputs": [],
   "source": [
    "data_gen=ImageDataGenerator(rescale=1./255)"
   ]
  },
  {
   "cell_type": "code",
   "execution_count": 22,
   "metadata": {},
   "outputs": [
    {
     "name": "stdout",
     "output_type": "stream",
     "text": [
      "Found 61486 images belonging to 39 classes.\n"
     ]
    }
   ],
   "source": [
    "data=data_gen.flow_from_directory(\n",
    "    path,\n",
    "    target_size=IMG_SIZE,\n",
    "    batch_size=BATCH_SIZE,\n",
    "    class_mode=\"categorical\"\n",
    ")"
   ]
  },
  {
   "cell_type": "markdown",
   "metadata": {},
   "source": [
    "# MODELISATION"
   ]
  },
  {
   "cell_type": "markdown",
   "metadata": {},
   "source": [
    "## VGG11"
   ]
  },
  {
   "cell_type": "code",
   "execution_count": 23,
   "metadata": {},
   "outputs": [
    {
     "name": "stdout",
     "output_type": "stream",
     "text": [
      "Total des images trouvées : 61486\n"
     ]
    }
   ],
   "source": [
    "# --------- 1. Préparer les données ---------\n",
    "filepaths = []\n",
    "labels = []\n",
    "folds = os.listdir(path)\n",
    "for fold in folds:\n",
    "    f_path = os.path.join(path, fold)\n",
    "    if not os.path.isdir(f_path):\n",
    "        continue\n",
    "    for file in os.listdir(f_path):\n",
    "        filepaths.append(os.path.join(f_path, file))\n",
    "        labels.append(fold)\n",
    "\n",
    "df = pd.DataFrame({'filepaths': filepaths, 'labels': labels})\n",
    "print(f\"Total des images trouvées : {len(df)}\")"
   ]
  },
  {
   "cell_type": "code",
   "execution_count": 24,
   "metadata": {},
   "outputs": [],
   "source": [
    "# Split 80/20 avec stratification\n",
    "train_df, test_df = train_test_split(\n",
    "    df,\n",
    "    test_size=0.1,\n",
    "    random_state=42,\n",
    "    stratify=df['labels']\n",
    ")\n",
    "train_df, val_df = train_test_split(\n",
    "    train_df,\n",
    "    test_size=0.2,\n",
    "    random_state=42,\n",
    "    stratify=train_df['labels']\n",
    ")"
   ]
  },
  {
   "cell_type": "code",
   "execution_count": 25,
   "metadata": {},
   "outputs": [],
   "source": [
    "# Mapping des classes en indices\n",
    "class_names = sorted(df['labels'].unique())\n",
    "class_to_idx = {cls: idx for idx, cls in enumerate(class_names)}\n",
    "num_classes = len(class_names)"
   ]
  },
  {
   "cell_type": "code",
   "execution_count": 26,
   "metadata": {},
   "outputs": [],
   "source": [
    "# --------- 2. Dataset personnalisé ---------\n",
    "class CustomImageDataset(Dataset):\n",
    "    def __init__(self, df, class_to_idx, transform=None):\n",
    "        self.df = df.reset_index(drop=True)\n",
    "        self.class_to_idx = class_to_idx\n",
    "        self.transform = transform\n",
    "\n",
    "    def __len__(self):\n",
    "        return len(self.df)\n",
    "\n",
    "    def __getitem__(self, idx):\n",
    "        img_path = self.df.loc[idx, 'filepaths']\n",
    "        label_name = self.df.loc[idx, 'labels']\n",
    "        label = self.class_to_idx[label_name]\n",
    "        \n",
    "        image = Image.open(img_path).convert('RGB')\n",
    "        if self.transform:\n",
    "            image = self.transform(image)\n",
    "        return image, label"
   ]
  },
  {
   "cell_type": "code",
   "execution_count": 27,
   "metadata": {},
   "outputs": [],
   "source": [
    "# --------- 3. Data augmentation et loaders ---------\n",
    "train_transforms = transforms.Compose([\n",
    "    transforms.Resize(IMG_SIZE),\n",
    "    transforms.RandomRotation(30),\n",
    "    transforms.RandomHorizontalFlip(),\n",
    "    transforms.ColorJitter(brightness=0.2, contrast=0.2),\n",
    "    transforms.RandomResizedCrop(IMG_SIZE),\n",
    "    transforms.ToTensor(),\n",
    "    transforms.Normalize(mean=[0.485, 0.456, 0.406],\n",
    "                         std=[0.229, 0.224, 0.225])\n",
    "])\n",
    "\n",
    "val_transforms = transforms.Compose([\n",
    "    transforms.Resize(IMG_SIZE),\n",
    "    transforms.CenterCrop(IMG_SIZE),\n",
    "    transforms.ToTensor(),\n",
    "    transforms.Normalize(mean=[0.485, 0.456, 0.406],\n",
    "                         std=[0.229, 0.224, 0.225])\n",
    "])"
   ]
  },
  {
   "cell_type": "code",
   "execution_count": 28,
   "metadata": {},
   "outputs": [],
   "source": [
    "train_dataset = CustomImageDataset(train_df, class_to_idx, transform=train_transforms)\n",
    "val_dataset = CustomImageDataset(val_df, class_to_idx, transform=val_transforms)\n",
    "test_dataset = CustomImageDataset(test_df, class_to_idx, transform=val_transforms)"
   ]
  },
  {
   "cell_type": "code",
   "execution_count": 29,
   "metadata": {},
   "outputs": [],
   "source": [
    "train_loader = DataLoader(train_dataset, batch_size=BATCH_SIZE, shuffle=True, num_workers=4)\n",
    "val_loader = DataLoader(val_dataset, batch_size=BATCH_SIZE, shuffle=False, num_workers=4)\n",
    "test_loader = DataLoader(test_dataset, batch_size=BATCH_SIZE, shuffle=False, num_workers=4)"
   ]
  },
  {
   "cell_type": "code",
   "execution_count": 30,
   "metadata": {},
   "outputs": [
    {
     "name": "stdout",
     "output_type": "stream",
     "text": [
      "Downloading: \"https://download.pytorch.org/models/vgg11-8a719046.pth\" to /root/.cache/torch/hub/checkpoints/vgg11-8a719046.pth\n"
     ]
    },
    {
     "name": "stderr",
     "output_type": "stream",
     "text": [
      "100%|██████████| 507M/507M [00:05<00:00, 91.9MB/s] \n"
     ]
    }
   ],
   "source": [
    "# Charger VGG11 pré-entraîné\n",
    "model = models.vgg11(weights=models.VGG11_Weights.DEFAULT)"
   ]
  },
  {
   "cell_type": "code",
   "execution_count": 31,
   "metadata": {},
   "outputs": [],
   "source": [
    "for param in model.features.parameters():\n",
    "    param.requires_grad = False"
   ]
  },
  {
   "cell_type": "code",
   "execution_count": 32,
   "metadata": {},
   "outputs": [],
   "source": [
    "# Modifier le classificateur final pour notre nombre de classes\n",
    "num_ftrs = model.classifier[6].in_features\n",
    "model.classifier[6] = nn.Linear(num_ftrs, num_classes)"
   ]
  },
  {
   "cell_type": "code",
   "execution_count": 33,
   "metadata": {},
   "outputs": [],
   "source": [
    "model = model.to(device)"
   ]
  },
  {
   "cell_type": "code",
   "execution_count": 34,
   "metadata": {},
   "outputs": [],
   "source": [
    "optimizer = optim.Adam(model.classifier[6].parameters(), lr=0.001)\n",
    "scheduler = optim.lr_scheduler.StepLR(optimizer, step_size=7, gamma=0.1)\n",
    "criterion = nn.CrossEntropyLoss()"
   ]
  },
  {
   "cell_type": "code",
   "execution_count": 35,
   "metadata": {},
   "outputs": [],
   "source": [
    "def train_model(model, criterion, optimizer, scheduler, num_epochs, train_loader, val_loader, device):\n",
    "    best_val_accuracy = 0.0\n",
    "    best_model_path = '/workspace/models/best_model_vgg11.pth'\n",
    "    start_time = time.time()\n",
    "    \n",
    "    for epoch in range(num_epochs):\n",
    "        epoch_start_time = time.time()\n",
    "        \n",
    "        # Phase d'entraînement\n",
    "        model.train()\n",
    "        train_loss = 0.0\n",
    "        train_corrects = 0\n",
    "        \n",
    "        for inputs, labels in train_loader:\n",
    "            inputs, labels = inputs.to(device), labels.to(device)\n",
    "            \n",
    "            optimizer.zero_grad()\n",
    "            \n",
    "            outputs = model(inputs)\n",
    "            _, preds = torch.max(outputs, 1)\n",
    "            loss = criterion(outputs, labels)\n",
    "            \n",
    "            loss.backward()\n",
    "            optimizer.step()\n",
    "            \n",
    "            train_loss += loss.item() * inputs.size(0)\n",
    "            train_corrects += torch.sum(preds == labels.data)\n",
    "            \n",
    "        scheduler.step()\n",
    "        \n",
    "        train_loss = train_loss / len(train_loader.dataset)\n",
    "        train_accuracy = train_corrects.double() / len(train_loader.dataset)\n",
    "        \n",
    "        # Phase de validation\n",
    "        model.eval()\n",
    "        val_loss = 0.0\n",
    "        val_corrects = 0\n",
    "        \n",
    "        with torch.no_grad():\n",
    "            for inputs, labels in val_loader:\n",
    "                inputs, labels = inputs.to(device), labels.to(device)\n",
    "                \n",
    "                outputs = model(inputs)\n",
    "                _, preds = torch.max(outputs, 1)\n",
    "                loss = criterion(outputs, labels)\n",
    "                \n",
    "                val_loss += loss.item() * inputs.size(0)\n",
    "                val_corrects += torch.sum(preds == labels.data)\n",
    "        \n",
    "        val_loss = val_loss / len(val_loader.dataset)\n",
    "        val_accuracy = val_corrects.double() / len(val_loader.dataset)\n",
    "        \n",
    "        # Affichage des métriques de performance\n",
    "        print(f'Epoch {epoch+1}/{num_epochs} - '\n",
    "              f'Temps: {time.time()-epoch_start_time:.2f}s | '\n",
    "              f'Train Loss: {train_loss:.4f} Acc: {train_accuracy:.4f} | '\n",
    "              f'Val Loss: {val_loss:.4f} Acc: {val_accuracy:.4f}')\n",
    "\n",
    "        # Sauvegarde du meilleur modèle\n",
    "        if val_accuracy > best_val_accuracy:\n",
    "            best_val_accuracy = val_accuracy\n",
    "            torch.save(model.state_dict(), best_model_path)\n",
    "            print(f'Meilleur modèle sauvegardé avec une précision de validation de {best_val_accuracy:.4f}')\n",
    "            \n",
    "    total_time = time.time() - start_time\n",
    "    print(f'Formation terminée en {total_time:.2f} secondes.')\n",
    "    print(f'Meilleure précision de validation : {best_val_accuracy:.4f}')\n",
    "    \n",
    "    return model"
   ]
  },
  {
   "cell_type": "code",
   "execution_count": 36,
   "metadata": {},
   "outputs": [
    {
     "name": "stdout",
     "output_type": "stream",
     "text": [
      "Epoch 1/20 - Temps: 83.81s | Train Loss: 1.1313 Acc: 0.6722 | Val Loss: 0.5499 Acc: 0.8259\n",
      "Meilleur modèle sauvegardé avec une précision de validation de 0.8259\n",
      "Epoch 2/20 - Temps: 81.59s | Train Loss: 0.9628 Acc: 0.7167 | Val Loss: 0.4824 Acc: 0.8491\n",
      "Meilleur modèle sauvegardé avec une précision de validation de 0.8491\n",
      "Epoch 3/20 - Temps: 89.97s | Train Loss: 0.9431 Acc: 0.7266 | Val Loss: 0.4809 Acc: 0.8513\n",
      "Meilleur modèle sauvegardé avec une précision de validation de 0.8513\n",
      "Epoch 4/20 - Temps: 77.68s | Train Loss: 0.9526 Acc: 0.7271 | Val Loss: 0.4447 Acc: 0.8652\n",
      "Meilleur modèle sauvegardé avec une précision de validation de 0.8652\n",
      "Epoch 5/20 - Temps: 71.22s | Train Loss: 0.9504 Acc: 0.7313 | Val Loss: 0.4503 Acc: 0.8631\n",
      "Epoch 6/20 - Temps: 79.00s | Train Loss: 0.9592 Acc: 0.7318 | Val Loss: 0.4802 Acc: 0.8556\n",
      "Epoch 7/20 - Temps: 86.37s | Train Loss: 0.9572 Acc: 0.7337 | Val Loss: 0.4292 Acc: 0.8710\n",
      "Meilleur modèle sauvegardé avec une précision de validation de 0.8710\n",
      "Epoch 8/20 - Temps: 82.11s | Train Loss: 0.8874 Acc: 0.7498 | Val Loss: 0.3856 Acc: 0.8829\n",
      "Meilleur modèle sauvegardé avec une précision de validation de 0.8829\n",
      "Epoch 9/20 - Temps: 79.99s | Train Loss: 0.8653 Acc: 0.7531 | Val Loss: 0.3780 Acc: 0.8860\n",
      "Meilleur modèle sauvegardé avec une précision de validation de 0.8860\n",
      "Epoch 10/20 - Temps: 77.90s | Train Loss: 0.8454 Acc: 0.7576 | Val Loss: 0.3785 Acc: 0.8870\n",
      "Meilleur modèle sauvegardé avec une précision de validation de 0.8870\n",
      "Epoch 11/20 - Temps: 80.24s | Train Loss: 0.8420 Acc: 0.7577 | Val Loss: 0.3524 Acc: 0.8912\n",
      "Meilleur modèle sauvegardé avec une précision de validation de 0.8912\n",
      "Epoch 12/20 - Temps: 80.35s | Train Loss: 0.8208 Acc: 0.7630 | Val Loss: 0.3645 Acc: 0.8877\n",
      "Epoch 13/20 - Temps: 74.82s | Train Loss: 0.8178 Acc: 0.7621 | Val Loss: 0.3514 Acc: 0.8930\n",
      "Meilleur modèle sauvegardé avec une précision de validation de 0.8930\n",
      "Epoch 14/20 - Temps: 68.97s | Train Loss: 0.8105 Acc: 0.7640 | Val Loss: 0.3369 Acc: 0.8962\n",
      "Meilleur modèle sauvegardé avec une précision de validation de 0.8962\n",
      "Epoch 15/20 - Temps: 69.22s | Train Loss: 0.7995 Acc: 0.7686 | Val Loss: 0.3394 Acc: 0.8964\n",
      "Meilleur modèle sauvegardé avec une précision de validation de 0.8964\n",
      "Epoch 16/20 - Temps: 76.09s | Train Loss: 0.7985 Acc: 0.7661 | Val Loss: 0.3434 Acc: 0.8947\n",
      "Epoch 17/20 - Temps: 87.61s | Train Loss: 0.8012 Acc: 0.7658 | Val Loss: 0.3440 Acc: 0.8950\n",
      "Epoch 18/20 - Temps: 83.32s | Train Loss: 0.7998 Acc: 0.7663 | Val Loss: 0.3431 Acc: 0.8947\n",
      "Epoch 19/20 - Temps: 78.17s | Train Loss: 0.7850 Acc: 0.7673 | Val Loss: 0.3382 Acc: 0.8956\n",
      "Epoch 20/20 - Temps: 79.53s | Train Loss: 0.7927 Acc: 0.7670 | Val Loss: 0.3402 Acc: 0.8948\n",
      "Formation terminée en 1604.66 secondes.\n",
      "Meilleure précision de validation : 0.8964\n"
     ]
    }
   ],
   "source": [
    "NUM_EPOCHS = 20\n",
    "trained_model = train_model(model, criterion, optimizer, scheduler, NUM_EPOCHS, train_loader, val_loader, device)"
   ]
  },
  {
   "cell_type": "markdown",
   "metadata": {},
   "source": [
    "### Evaluation"
   ]
  },
  {
   "cell_type": "code",
   "execution_count": 38,
   "metadata": {},
   "outputs": [
    {
     "data": {
      "text/plain": [
       "VGG(\n",
       "  (features): Sequential(\n",
       "    (0): Conv2d(3, 64, kernel_size=(3, 3), stride=(1, 1), padding=(1, 1))\n",
       "    (1): ReLU(inplace=True)\n",
       "    (2): MaxPool2d(kernel_size=2, stride=2, padding=0, dilation=1, ceil_mode=False)\n",
       "    (3): Conv2d(64, 128, kernel_size=(3, 3), stride=(1, 1), padding=(1, 1))\n",
       "    (4): ReLU(inplace=True)\n",
       "    (5): MaxPool2d(kernel_size=2, stride=2, padding=0, dilation=1, ceil_mode=False)\n",
       "    (6): Conv2d(128, 256, kernel_size=(3, 3), stride=(1, 1), padding=(1, 1))\n",
       "    (7): ReLU(inplace=True)\n",
       "    (8): Conv2d(256, 256, kernel_size=(3, 3), stride=(1, 1), padding=(1, 1))\n",
       "    (9): ReLU(inplace=True)\n",
       "    (10): MaxPool2d(kernel_size=2, stride=2, padding=0, dilation=1, ceil_mode=False)\n",
       "    (11): Conv2d(256, 512, kernel_size=(3, 3), stride=(1, 1), padding=(1, 1))\n",
       "    (12): ReLU(inplace=True)\n",
       "    (13): Conv2d(512, 512, kernel_size=(3, 3), stride=(1, 1), padding=(1, 1))\n",
       "    (14): ReLU(inplace=True)\n",
       "    (15): MaxPool2d(kernel_size=2, stride=2, padding=0, dilation=1, ceil_mode=False)\n",
       "    (16): Conv2d(512, 512, kernel_size=(3, 3), stride=(1, 1), padding=(1, 1))\n",
       "    (17): ReLU(inplace=True)\n",
       "    (18): Conv2d(512, 512, kernel_size=(3, 3), stride=(1, 1), padding=(1, 1))\n",
       "    (19): ReLU(inplace=True)\n",
       "    (20): MaxPool2d(kernel_size=2, stride=2, padding=0, dilation=1, ceil_mode=False)\n",
       "  )\n",
       "  (avgpool): AdaptiveAvgPool2d(output_size=(7, 7))\n",
       "  (classifier): Sequential(\n",
       "    (0): Linear(in_features=25088, out_features=4096, bias=True)\n",
       "    (1): ReLU(inplace=True)\n",
       "    (2): Dropout(p=0.5, inplace=False)\n",
       "    (3): Linear(in_features=4096, out_features=4096, bias=True)\n",
       "    (4): ReLU(inplace=True)\n",
       "    (5): Dropout(p=0.5, inplace=False)\n",
       "    (6): Linear(in_features=4096, out_features=39, bias=True)\n",
       "  )\n",
       ")"
      ]
     },
     "execution_count": 38,
     "metadata": {},
     "output_type": "execute_result"
    }
   ],
   "source": [
    "trained_model.load_state_dict(torch.load('/workspace/models/best_model_vgg11.pth'))\n",
    "trained_model.eval()"
   ]
  },
  {
   "cell_type": "code",
   "execution_count": 39,
   "metadata": {},
   "outputs": [],
   "source": [
    "all_preds = []\n",
    "all_labels = []"
   ]
  },
  {
   "cell_type": "code",
   "execution_count": 40,
   "metadata": {},
   "outputs": [
    {
     "name": "stdout",
     "output_type": "stream",
     "text": [
      "[Batch 1] Time: 0.03s | CPU: 7.2% | RAM: 130.15GB | GPU: 984.31MB\n",
      "[Batch 2] Time: 0.02s | CPU: 3.8% | RAM: 130.15GB | GPU: 984.31MB\n",
      "[Batch 3] Time: 0.02s | CPU: 3.6% | RAM: 130.16GB | GPU: 984.31MB\n",
      "[Batch 4] Time: 0.01s | CPU: 4.8% | RAM: 130.16GB | GPU: 984.31MB\n",
      "[Batch 5] Time: 0.02s | CPU: 4.3% | RAM: 130.17GB | GPU: 984.31MB\n",
      "[Batch 6] Time: 0.02s | CPU: 4.0% | RAM: 130.17GB | GPU: 984.31MB\n",
      "[Batch 7] Time: 0.02s | CPU: 5.0% | RAM: 130.16GB | GPU: 984.31MB\n",
      "[Batch 8] Time: 0.02s | CPU: 5.1% | RAM: 130.16GB | GPU: 984.31MB\n",
      "[Batch 9] Time: 0.02s | CPU: 4.1% | RAM: 130.15GB | GPU: 984.31MB\n",
      "[Batch 10] Time: 0.02s | CPU: 4.8% | RAM: 130.17GB | GPU: 984.31MB\n",
      "[Batch 11] Time: 0.02s | CPU: 4.0% | RAM: 130.19GB | GPU: 984.31MB\n",
      "[Batch 12] Time: 0.01s | CPU: 5.0% | RAM: 130.20GB | GPU: 984.31MB\n",
      "[Batch 13] Time: 0.02s | CPU: 11.3% | RAM: 130.23GB | GPU: 984.31MB\n",
      "[Batch 14] Time: 0.01s | CPU: 5.3% | RAM: 130.25GB | GPU: 984.31MB\n",
      "[Batch 15] Time: 0.01s | CPU: 5.7% | RAM: 130.27GB | GPU: 984.31MB\n",
      "[Batch 16] Time: 0.01s | CPU: 4.6% | RAM: 130.28GB | GPU: 984.31MB\n",
      "[Batch 17] Time: 0.02s | CPU: 7.6% | RAM: 130.28GB | GPU: 984.31MB\n",
      "[Batch 18] Time: 0.02s | CPU: 6.8% | RAM: 130.28GB | GPU: 984.31MB\n",
      "[Batch 19] Time: 0.02s | CPU: 8.7% | RAM: 130.29GB | GPU: 984.31MB\n",
      "[Batch 20] Time: 0.02s | CPU: 10.0% | RAM: 130.29GB | GPU: 984.31MB\n",
      "[Batch 21] Time: 0.02s | CPU: 6.5% | RAM: 130.29GB | GPU: 984.31MB\n",
      "[Batch 22] Time: 0.02s | CPU: 6.0% | RAM: 130.29GB | GPU: 984.31MB\n",
      "[Batch 23] Time: 0.02s | CPU: 7.5% | RAM: 130.29GB | GPU: 984.31MB\n",
      "[Batch 24] Time: 0.01s | CPU: 7.0% | RAM: 130.30GB | GPU: 984.31MB\n",
      "[Batch 25] Time: 0.02s | CPU: 6.5% | RAM: 130.29GB | GPU: 984.31MB\n",
      "[Batch 26] Time: 0.02s | CPU: 6.2% | RAM: 130.30GB | GPU: 984.31MB\n",
      "[Batch 27] Time: 0.01s | CPU: 7.5% | RAM: 130.26GB | GPU: 984.31MB\n",
      "[Batch 28] Time: 0.01s | CPU: 6.4% | RAM: 130.27GB | GPU: 984.31MB\n",
      "[Batch 29] Time: 0.01s | CPU: 5.4% | RAM: 130.27GB | GPU: 984.31MB\n",
      "[Batch 30] Time: 0.01s | CPU: 5.8% | RAM: 130.27GB | GPU: 984.31MB\n",
      "[Batch 31] Time: 0.02s | CPU: 5.7% | RAM: 130.28GB | GPU: 984.31MB\n",
      "[Batch 32] Time: 0.02s | CPU: 20.4% | RAM: 130.28GB | GPU: 984.31MB\n",
      "[Batch 33] Time: 0.02s | CPU: 6.4% | RAM: 130.29GB | GPU: 984.31MB\n",
      "[Batch 34] Time: 0.02s | CPU: 4.5% | RAM: 130.29GB | GPU: 984.31MB\n",
      "[Batch 35] Time: 0.02s | CPU: 10.5% | RAM: 130.29GB | GPU: 984.31MB\n",
      "[Batch 36] Time: 0.01s | CPU: 5.7% | RAM: 130.28GB | GPU: 984.31MB\n",
      "[Batch 37] Time: 0.02s | CPU: 10.1% | RAM: 130.29GB | GPU: 984.31MB\n",
      "[Batch 38] Time: 0.02s | CPU: 4.4% | RAM: 130.31GB | GPU: 984.31MB\n",
      "[Batch 39] Time: 0.01s | CPU: 4.7% | RAM: 130.30GB | GPU: 984.31MB\n",
      "[Batch 40] Time: 0.01s | CPU: 6.0% | RAM: 130.30GB | GPU: 984.31MB\n",
      "[Batch 41] Time: 0.02s | CPU: 4.8% | RAM: 130.31GB | GPU: 984.31MB\n",
      "[Batch 42] Time: 0.02s | CPU: 11.7% | RAM: 130.31GB | GPU: 984.31MB\n",
      "[Batch 43] Time: 0.01s | CPU: 5.0% | RAM: 130.33GB | GPU: 984.31MB\n",
      "[Batch 44] Time: 0.02s | CPU: 5.9% | RAM: 130.32GB | GPU: 984.31MB\n",
      "[Batch 45] Time: 0.02s | CPU: 5.3% | RAM: 130.32GB | GPU: 984.31MB\n",
      "[Batch 46] Time: 0.02s | CPU: 4.7% | RAM: 130.32GB | GPU: 984.31MB\n",
      "[Batch 47] Time: 0.02s | CPU: 9.1% | RAM: 130.33GB | GPU: 984.31MB\n",
      "[Batch 48] Time: 0.01s | CPU: 6.0% | RAM: 130.32GB | GPU: 984.31MB\n",
      "[Batch 49] Time: 0.02s | CPU: 5.4% | RAM: 130.32GB | GPU: 984.31MB\n",
      "[Batch 50] Time: 0.02s | CPU: 6.0% | RAM: 130.33GB | GPU: 984.31MB\n",
      "[Batch 51] Time: 0.02s | CPU: 8.4% | RAM: 130.32GB | GPU: 984.31MB\n",
      "[Batch 52] Time: 0.01s | CPU: 6.7% | RAM: 130.30GB | GPU: 984.31MB\n",
      "[Batch 53] Time: 0.02s | CPU: 8.1% | RAM: 130.31GB | GPU: 984.31MB\n",
      "[Batch 54] Time: 0.02s | CPU: 18.1% | RAM: 130.32GB | GPU: 984.31MB\n",
      "[Batch 55] Time: 0.01s | CPU: 6.4% | RAM: 130.32GB | GPU: 984.31MB\n",
      "[Batch 56] Time: 0.01s | CPU: 7.2% | RAM: 130.31GB | GPU: 984.31MB\n",
      "[Batch 57] Time: 0.02s | CPU: 6.7% | RAM: 130.32GB | GPU: 984.31MB\n",
      "[Batch 58] Time: 0.01s | CPU: 27.8% | RAM: 130.32GB | GPU: 984.31MB\n",
      "[Batch 59] Time: 0.02s | CPU: 11.3% | RAM: 130.31GB | GPU: 984.31MB\n",
      "[Batch 60] Time: 0.02s | CPU: 8.1% | RAM: 130.32GB | GPU: 984.31MB\n",
      "[Batch 61] Time: 0.02s | CPU: 11.6% | RAM: 130.32GB | GPU: 984.31MB\n",
      "[Batch 62] Time: 0.02s | CPU: 7.8% | RAM: 130.32GB | GPU: 984.31MB\n",
      "[Batch 63] Time: 0.02s | CPU: 10.3% | RAM: 130.32GB | GPU: 984.31MB\n",
      "[Batch 64] Time: 0.02s | CPU: 8.0% | RAM: 130.33GB | GPU: 984.31MB\n",
      "[Batch 65] Time: 0.02s | CPU: 8.9% | RAM: 130.33GB | GPU: 984.31MB\n",
      "[Batch 66] Time: 0.02s | CPU: 6.2% | RAM: 130.33GB | GPU: 984.31MB\n",
      "[Batch 67] Time: 0.02s | CPU: 10.1% | RAM: 130.34GB | GPU: 984.31MB\n",
      "[Batch 68] Time: 0.01s | CPU: 5.3% | RAM: 130.34GB | GPU: 984.31MB\n",
      "[Batch 69] Time: 0.02s | CPU: 5.1% | RAM: 130.35GB | GPU: 984.31MB\n",
      "[Batch 70] Time: 0.02s | CPU: 6.3% | RAM: 130.35GB | GPU: 984.31MB\n",
      "[Batch 71] Time: 0.02s | CPU: 4.7% | RAM: 130.35GB | GPU: 984.31MB\n",
      "[Batch 72] Time: 0.02s | CPU: 6.2% | RAM: 130.36GB | GPU: 984.31MB\n",
      "[Batch 73] Time: 0.02s | CPU: 4.2% | RAM: 130.34GB | GPU: 984.31MB\n",
      "[Batch 74] Time: 0.02s | CPU: 4.5% | RAM: 130.34GB | GPU: 984.31MB\n",
      "[Batch 75] Time: 0.02s | CPU: 4.8% | RAM: 130.35GB | GPU: 984.31MB\n",
      "[Batch 76] Time: 0.02s | CPU: 4.6% | RAM: 130.34GB | GPU: 984.31MB\n",
      "[Batch 77] Time: 0.02s | CPU: 4.2% | RAM: 130.34GB | GPU: 984.31MB\n",
      "[Batch 78] Time: 0.02s | CPU: 4.5% | RAM: 130.35GB | GPU: 984.31MB\n",
      "[Batch 79] Time: 0.02s | CPU: 4.4% | RAM: 130.35GB | GPU: 984.31MB\n",
      "[Batch 80] Time: 0.02s | CPU: 4.2% | RAM: 130.35GB | GPU: 984.31MB\n",
      "[Batch 81] Time: 0.02s | CPU: 4.4% | RAM: 130.35GB | GPU: 984.31MB\n",
      "[Batch 82] Time: 0.02s | CPU: 5.2% | RAM: 130.35GB | GPU: 984.31MB\n",
      "[Batch 83] Time: 0.02s | CPU: 16.7% | RAM: 130.35GB | GPU: 984.31MB\n",
      "[Batch 84] Time: 0.02s | CPU: 20.8% | RAM: 130.35GB | GPU: 984.31MB\n",
      "[Batch 85] Time: 0.02s | CPU: 4.3% | RAM: 130.36GB | GPU: 984.31MB\n",
      "[Batch 86] Time: 0.02s | CPU: 5.4% | RAM: 130.36GB | GPU: 984.31MB\n",
      "[Batch 87] Time: 0.02s | CPU: 4.4% | RAM: 130.36GB | GPU: 984.31MB\n",
      "[Batch 88] Time: 0.02s | CPU: 4.7% | RAM: 130.36GB | GPU: 984.31MB\n",
      "[Batch 89] Time: 0.02s | CPU: 5.0% | RAM: 130.37GB | GPU: 984.31MB\n",
      "[Batch 90] Time: 0.02s | CPU: 5.8% | RAM: 130.37GB | GPU: 984.31MB\n",
      "[Batch 91] Time: 0.02s | CPU: 6.0% | RAM: 130.37GB | GPU: 984.31MB\n",
      "[Batch 92] Time: 0.02s | CPU: 4.5% | RAM: 130.37GB | GPU: 984.31MB\n",
      "[Batch 93] Time: 0.02s | CPU: 5.0% | RAM: 130.37GB | GPU: 984.31MB\n",
      "[Batch 94] Time: 0.02s | CPU: 6.3% | RAM: 130.37GB | GPU: 984.31MB\n",
      "[Batch 95] Time: 0.02s | CPU: 5.3% | RAM: 130.38GB | GPU: 984.31MB\n",
      "[Batch 96] Time: 0.02s | CPU: 4.5% | RAM: 130.37GB | GPU: 984.31MB\n",
      "[Batch 97] Time: 0.02s | CPU: 4.9% | RAM: 130.37GB | GPU: 984.31MB\n",
      "[Batch 98] Time: 0.02s | CPU: 5.5% | RAM: 130.37GB | GPU: 984.31MB\n",
      "[Batch 99] Time: 0.02s | CPU: 5.5% | RAM: 130.36GB | GPU: 984.31MB\n",
      "[Batch 100] Time: 0.02s | CPU: 4.0% | RAM: 130.36GB | GPU: 984.31MB\n",
      "[Batch 101] Time: 0.02s | CPU: 4.6% | RAM: 130.36GB | GPU: 984.31MB\n",
      "[Batch 102] Time: 0.02s | CPU: 5.6% | RAM: 130.36GB | GPU: 984.31MB\n",
      "[Batch 103] Time: 0.02s | CPU: 8.7% | RAM: 130.37GB | GPU: 984.31MB\n",
      "[Batch 104] Time: 0.02s | CPU: 5.0% | RAM: 130.38GB | GPU: 984.31MB\n",
      "[Batch 105] Time: 0.02s | CPU: 4.9% | RAM: 130.38GB | GPU: 984.31MB\n",
      "[Batch 106] Time: 0.02s | CPU: 5.4% | RAM: 130.38GB | GPU: 984.31MB\n",
      "[Batch 107] Time: 0.02s | CPU: 17.4% | RAM: 130.37GB | GPU: 984.31MB\n",
      "[Batch 108] Time: 0.02s | CPU: 4.5% | RAM: 130.37GB | GPU: 984.31MB\n",
      "[Batch 109] Time: 0.02s | CPU: 4.9% | RAM: 130.38GB | GPU: 984.31MB\n",
      "[Batch 110] Time: 0.02s | CPU: 5.1% | RAM: 130.38GB | GPU: 984.31MB\n",
      "[Batch 111] Time: 0.02s | CPU: 4.7% | RAM: 130.37GB | GPU: 984.31MB\n",
      "[Batch 112] Time: 0.02s | CPU: 4.8% | RAM: 130.38GB | GPU: 984.31MB\n",
      "[Batch 113] Time: 0.02s | CPU: 5.1% | RAM: 130.38GB | GPU: 984.31MB\n",
      "[Batch 114] Time: 0.02s | CPU: 5.2% | RAM: 130.38GB | GPU: 984.31MB\n",
      "[Batch 115] Time: 0.02s | CPU: 4.3% | RAM: 130.38GB | GPU: 984.31MB\n",
      "[Batch 116] Time: 0.02s | CPU: 5.9% | RAM: 130.38GB | GPU: 984.31MB\n",
      "[Batch 117] Time: 0.02s | CPU: 5.0% | RAM: 130.39GB | GPU: 984.31MB\n",
      "[Batch 118] Time: 0.02s | CPU: 5.7% | RAM: 130.39GB | GPU: 984.31MB\n",
      "[Batch 119] Time: 0.02s | CPU: 5.1% | RAM: 130.39GB | GPU: 984.31MB\n",
      "[Batch 120] Time: 0.02s | CPU: 6.0% | RAM: 130.39GB | GPU: 984.31MB\n",
      "[Batch 121] Time: 0.02s | CPU: 6.2% | RAM: 130.39GB | GPU: 984.31MB\n",
      "[Batch 122] Time: 0.02s | CPU: 5.0% | RAM: 130.39GB | GPU: 984.31MB\n",
      "[Batch 123] Time: 0.02s | CPU: 4.8% | RAM: 130.39GB | GPU: 984.31MB\n",
      "[Batch 124] Time: 0.02s | CPU: 4.3% | RAM: 130.39GB | GPU: 984.31MB\n",
      "[Batch 125] Time: 0.02s | CPU: 4.7% | RAM: 130.38GB | GPU: 984.31MB\n",
      "[Batch 126] Time: 0.02s | CPU: 5.1% | RAM: 130.38GB | GPU: 984.31MB\n",
      "[Batch 127] Time: 0.02s | CPU: 4.5% | RAM: 130.38GB | GPU: 984.31MB\n",
      "[Batch 128] Time: 0.02s | CPU: 5.8% | RAM: 130.37GB | GPU: 984.31MB\n",
      "[Batch 129] Time: 0.02s | CPU: 9.9% | RAM: 130.38GB | GPU: 984.31MB\n",
      "[Batch 130] Time: 0.02s | CPU: 6.1% | RAM: 130.38GB | GPU: 984.31MB\n",
      "[Batch 131] Time: 0.02s | CPU: 5.9% | RAM: 130.38GB | GPU: 984.31MB\n",
      "[Batch 132] Time: 0.02s | CPU: 5.8% | RAM: 130.38GB | GPU: 984.31MB\n",
      "[Batch 133] Time: 0.02s | CPU: 4.9% | RAM: 130.37GB | GPU: 984.31MB\n",
      "[Batch 134] Time: 0.02s | CPU: 5.5% | RAM: 130.37GB | GPU: 984.31MB\n",
      "[Batch 135] Time: 0.02s | CPU: 5.5% | RAM: 130.39GB | GPU: 984.31MB\n",
      "[Batch 136] Time: 0.02s | CPU: 5.6% | RAM: 130.40GB | GPU: 984.31MB\n",
      "[Batch 137] Time: 0.02s | CPU: 4.6% | RAM: 130.41GB | GPU: 984.31MB\n",
      "[Batch 138] Time: 0.02s | CPU: 5.8% | RAM: 130.41GB | GPU: 984.31MB\n",
      "[Batch 139] Time: 0.02s | CPU: 5.4% | RAM: 130.40GB | GPU: 984.31MB\n",
      "[Batch 140] Time: 0.02s | CPU: 5.8% | RAM: 130.40GB | GPU: 984.31MB\n",
      "[Batch 141] Time: 0.02s | CPU: 5.1% | RAM: 130.42GB | GPU: 984.31MB\n",
      "[Batch 142] Time: 0.02s | CPU: 6.7% | RAM: 130.42GB | GPU: 984.31MB\n",
      "[Batch 143] Time: 0.02s | CPU: 6.1% | RAM: 130.44GB | GPU: 984.31MB\n",
      "[Batch 144] Time: 0.02s | CPU: 5.8% | RAM: 130.43GB | GPU: 984.31MB\n",
      "[Batch 145] Time: 0.02s | CPU: 5.6% | RAM: 130.42GB | GPU: 984.31MB\n",
      "[Batch 146] Time: 0.02s | CPU: 6.5% | RAM: 130.43GB | GPU: 984.31MB\n",
      "[Batch 147] Time: 0.02s | CPU: 5.6% | RAM: 130.43GB | GPU: 984.31MB\n",
      "[Batch 148] Time: 0.02s | CPU: 5.4% | RAM: 130.43GB | GPU: 984.31MB\n",
      "[Batch 149] Time: 0.02s | CPU: 11.5% | RAM: 130.42GB | GPU: 984.31MB\n",
      "[Batch 150] Time: 0.02s | CPU: 13.0% | RAM: 130.42GB | GPU: 984.31MB\n",
      "[Batch 151] Time: 0.02s | CPU: 5.0% | RAM: 130.43GB | GPU: 984.31MB\n",
      "[Batch 152] Time: 0.02s | CPU: 5.8% | RAM: 130.41GB | GPU: 984.31MB\n",
      "[Batch 153] Time: 0.02s | CPU: 5.4% | RAM: 130.40GB | GPU: 984.31MB\n",
      "[Batch 154] Time: 0.02s | CPU: 5.4% | RAM: 130.42GB | GPU: 984.31MB\n",
      "[Batch 155] Time: 0.01s | CPU: 4.7% | RAM: 130.44GB | GPU: 984.31MB\n",
      "[Batch 156] Time: 0.02s | CPU: 6.1% | RAM: 130.44GB | GPU: 984.31MB\n",
      "[Batch 157] Time: 0.02s | CPU: 5.0% | RAM: 130.45GB | GPU: 984.31MB\n",
      "[Batch 158] Time: 0.02s | CPU: 5.7% | RAM: 130.44GB | GPU: 984.31MB\n",
      "[Batch 159] Time: 0.02s | CPU: 4.4% | RAM: 130.45GB | GPU: 984.31MB\n",
      "[Batch 160] Time: 0.01s | CPU: 5.0% | RAM: 130.45GB | GPU: 984.31MB\n",
      "[Batch 161] Time: 0.02s | CPU: 5.5% | RAM: 130.46GB | GPU: 984.31MB\n",
      "[Batch 162] Time: 0.02s | CPU: 4.2% | RAM: 130.46GB | GPU: 984.31MB\n",
      "[Batch 163] Time: 0.02s | CPU: 4.5% | RAM: 130.45GB | GPU: 984.31MB\n",
      "[Batch 164] Time: 0.02s | CPU: 4.3% | RAM: 130.46GB | GPU: 984.31MB\n",
      "[Batch 165] Time: 0.02s | CPU: 4.9% | RAM: 130.47GB | GPU: 984.31MB\n",
      "[Batch 166] Time: 0.02s | CPU: 5.2% | RAM: 130.46GB | GPU: 984.31MB\n",
      "[Batch 167] Time: 0.01s | CPU: 4.8% | RAM: 130.45GB | GPU: 984.31MB\n",
      "[Batch 168] Time: 0.01s | CPU: 5.1% | RAM: 130.45GB | GPU: 984.31MB\n",
      "[Batch 169] Time: 0.02s | CPU: 5.0% | RAM: 130.46GB | GPU: 984.31MB\n",
      "[Batch 170] Time: 0.02s | CPU: 32.2% | RAM: 130.47GB | GPU: 984.31MB\n",
      "[Batch 171] Time: 0.02s | CPU: 4.6% | RAM: 130.45GB | GPU: 984.31MB\n",
      "[Batch 172] Time: 0.01s | CPU: 5.4% | RAM: 130.45GB | GPU: 984.31MB\n",
      "[Batch 173] Time: 0.02s | CPU: 4.9% | RAM: 130.46GB | GPU: 984.31MB\n",
      "[Batch 174] Time: 0.02s | CPU: 5.8% | RAM: 130.48GB | GPU: 984.31MB\n",
      "[Batch 175] Time: 0.02s | CPU: 4.4% | RAM: 130.47GB | GPU: 984.31MB\n",
      "[Batch 176] Time: 0.02s | CPU: 5.3% | RAM: 130.47GB | GPU: 984.31MB\n",
      "[Batch 177] Time: 0.02s | CPU: 5.2% | RAM: 130.46GB | GPU: 984.31MB\n",
      "[Batch 178] Time: 0.02s | CPU: 6.0% | RAM: 130.46GB | GPU: 984.31MB\n",
      "[Batch 179] Time: 0.01s | CPU: 4.8% | RAM: 130.45GB | GPU: 984.31MB\n",
      "[Batch 180] Time: 0.01s | CPU: 7.1% | RAM: 130.45GB | GPU: 984.31MB\n",
      "[Batch 181] Time: 0.02s | CPU: 10.2% | RAM: 130.46GB | GPU: 984.31MB\n",
      "[Batch 182] Time: 0.02s | CPU: 7.3% | RAM: 130.45GB | GPU: 984.31MB\n",
      "[Batch 183] Time: 0.02s | CPU: 14.3% | RAM: 130.46GB | GPU: 984.31MB\n",
      "[Batch 184] Time: 0.02s | CPU: 6.0% | RAM: 130.46GB | GPU: 984.31MB\n",
      "[Batch 185] Time: 0.02s | CPU: 5.3% | RAM: 130.46GB | GPU: 984.31MB\n",
      "[Batch 186] Time: 0.02s | CPU: 4.6% | RAM: 130.47GB | GPU: 984.31MB\n",
      "[Batch 187] Time: 0.02s | CPU: 5.6% | RAM: 130.47GB | GPU: 984.31MB\n",
      "[Batch 188] Time: 0.02s | CPU: 5.3% | RAM: 130.47GB | GPU: 984.31MB\n",
      "[Batch 189] Time: 0.02s | CPU: 4.3% | RAM: 130.47GB | GPU: 984.31MB\n",
      "[Batch 190] Time: 0.02s | CPU: 3.9% | RAM: 130.46GB | GPU: 984.31MB\n",
      "[Batch 191] Time: 0.02s | CPU: 24.6% | RAM: 130.47GB | GPU: 984.31MB\n",
      "[Batch 192] Time: 0.02s | CPU: 10.1% | RAM: 130.46GB | GPU: 984.31MB\n",
      "[Batch 193] Time: 0.01s | CPU: 3.6% | RAM: 130.47GB | GPU: 968.99MB\n"
     ]
    }
   ],
   "source": [
    "start_time = time.time()\n",
    "with torch.no_grad():\n",
    "    for i, (inputs, labels) in enumerate(test_loader):\n",
    "        batch_start = time.time()\n",
    "        inputs, labels = inputs.to(device), labels.to(device)\n",
    "\n",
    "        outputs = trained_model(inputs)\n",
    "        preds = torch.argmax(outputs, dim=1)\n",
    "        all_preds.extend(preds.cpu().numpy())\n",
    "        all_labels.extend(labels.cpu().numpy())\n",
    "\n",
    "        # --- Profiling ---\n",
    "        cpu_usage = psutil.cpu_percent(interval=None)\n",
    "        ram = psutil.virtual_memory()\n",
    "        if torch.cuda.is_available():\n",
    "            gpu_mem = torch.cuda.memory_allocated() / 1024**2\n",
    "        else:\n",
    "            gpu_mem = 0.0\n",
    "        print(f\"[Batch {i+1}] Time: {time.time()-batch_start:.2f}s | CPU: {cpu_usage:.1f}% | RAM: {ram.used/1024**3:.2f}GB | GPU: {gpu_mem:.2f}MB\")\n",
    "\n",
    "end_time = time.time()"
   ]
  },
  {
   "cell_type": "code",
   "execution_count": 41,
   "metadata": {},
   "outputs": [
    {
     "name": "stdout",
     "output_type": "stream",
     "text": [
      "\n",
      "Temps Test Total: 8.39 sec\n",
      "Throughput: 732.65 images/sec\n"
     ]
    }
   ],
   "source": [
    "total_time = end_time - start_time\n",
    "print(f\"\\nTemps Test Total: {total_time:.2f} sec\")\n",
    "print(f\"Throughput: {len(test_dataset) / total_time:.2f} images/sec\")"
   ]
  },
  {
   "cell_type": "code",
   "execution_count": 42,
   "metadata": {},
   "outputs": [
    {
     "name": "stdout",
     "output_type": "stream",
     "text": [
      "=== Rapport complet d'évaluation sur l'ensemble de test (VGG11) ===\n",
      "                                               precision    recall  f1-score   support\n",
      "\n",
      "                           Apple___Apple_scab       0.99      0.68      0.80       100\n",
      "                            Apple___Black_rot       0.88      0.88      0.88       100\n",
      "                     Apple___Cedar_apple_rust       0.99      0.90      0.94       100\n",
      "                              Apple___healthy       0.92      0.85      0.88       164\n",
      "                    Background_without_leaves       0.98      0.97      0.98       114\n",
      "                          Blueberry___healthy       0.81      0.96      0.88       150\n",
      "                      Cherry___Powdery_mildew       0.99      0.70      0.82       105\n",
      "                             Cherry___healthy       0.93      0.87      0.90       100\n",
      "   Corn___Cercospora_leaf_spot Gray_leaf_spot       0.97      0.77      0.86       100\n",
      "                           Corn___Common_rust       1.00      1.00      1.00       119\n",
      "                  Corn___Northern_Leaf_Blight       0.79      0.99      0.88       100\n",
      "                               Corn___healthy       1.00      0.97      0.98       116\n",
      "                            Grape___Black_rot       0.96      0.92      0.94       118\n",
      "                 Grape___Esca_(Black_Measles)       0.90      0.96      0.93       138\n",
      "   Grape___Leaf_blight_(Isariopsis_Leaf_Spot)       1.00      0.95      0.98       108\n",
      "                              Grape___healthy       0.95      0.96      0.96       100\n",
      "     Orange___Haunglongbing_(Citrus_greening)       0.98      1.00      0.99       551\n",
      "                       Peach___Bacterial_spot       0.88      0.93      0.90       230\n",
      "                              Peach___healthy       0.96      0.91      0.93       100\n",
      "                Pepper,_bell___Bacterial_spot       0.86      0.83      0.85       100\n",
      "                       Pepper,_bell___healthy       0.93      0.93      0.93       148\n",
      "                        Potato___Early_blight       1.00      0.83      0.91       100\n",
      "                         Potato___Late_blight       0.86      0.83      0.85       100\n",
      "                             Potato___healthy       1.00      0.71      0.83       100\n",
      "                          Raspberry___healthy       0.98      0.88      0.93       100\n",
      "                            Soybean___healthy       0.92      0.97      0.94       509\n",
      "                      Squash___Powdery_mildew       0.99      0.99      0.99       184\n",
      "                     Strawberry___Leaf_scorch       0.95      0.97      0.96       111\n",
      "                         Strawberry___healthy       0.87      0.99      0.93       100\n",
      "                      Tomato___Bacterial_spot       0.89      0.87      0.88       213\n",
      "                        Tomato___Early_blight       0.81      0.38      0.52       100\n",
      "                         Tomato___Late_blight       0.79      0.75      0.77       191\n",
      "                           Tomato___Leaf_Mold       0.76      0.81      0.79       100\n",
      "                  Tomato___Septoria_leaf_spot       0.68      0.82      0.75       177\n",
      "Tomato___Spider_mites Two-spotted_spider_mite       0.60      0.95      0.74       168\n",
      "                         Tomato___Target_Spot       0.77      0.54      0.63       140\n",
      "       Tomato___Tomato_Yellow_Leaf_Curl_Virus       0.96      0.97      0.97       536\n",
      "                 Tomato___Tomato_mosaic_virus       0.82      0.94      0.88       100\n",
      "                             Tomato___healthy       0.81      0.90      0.85       159\n",
      "\n",
      "                                     accuracy                           0.90      6149\n",
      "                                    macro avg       0.90      0.87      0.88      6149\n",
      "                                 weighted avg       0.90      0.90      0.90      6149\n",
      "\n"
     ]
    }
   ],
   "source": [
    "# Rapport complet\n",
    "print(\"=== Rapport complet d'évaluation sur l'ensemble de test (VGG11) ===\")\n",
    "print(classification_report(all_labels, all_preds, target_names=class_names))"
   ]
  }
 ],
 "metadata": {
  "kaggle": {
   "accelerator": "gpu",
   "dataSources": [],
   "dockerImageVersionId": 31040,
   "isGpuEnabled": true,
   "isInternetEnabled": true,
   "language": "python",
   "sourceType": "notebook"
  },
  "kernelspec": {
   "display_name": "Python 3 (ipykernel)",
   "language": "python",
   "name": "python3"
  },
  "language_info": {
   "codemirror_mode": {
    "name": "ipython",
    "version": 3
   },
   "file_extension": ".py",
   "mimetype": "text/x-python",
   "name": "python",
   "nbconvert_exporter": "python",
   "pygments_lexer": "ipython3",
   "version": "3.11.11"
  }
 },
 "nbformat": 4,
 "nbformat_minor": 4
}
